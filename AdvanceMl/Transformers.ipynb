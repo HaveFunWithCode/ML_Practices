{
 "cells": [
  {
   "cell_type": "markdown",
   "id": "b29783d6",
   "metadata": {},
   "source": [
    "# Feature Transformation and Scaling"
   ]
  },
  {
   "cell_type": "raw",
   "id": "4636d898",
   "metadata": {},
   "source": [
    "---------------------------------------------------concept----------------------------------------------------------"
   ]
  },
  {
   "cell_type": "raw",
   "id": "41c41bc1",
   "metadata": {},
   "source": [
    "Sometimes our datasets have different columns with different value scales. for example, one column's value range is from 0 to 1000 and another column is from 0 to 1! So model do not treats both features(columns) equally! Actually column with larger value can influence more the result of model. we can prevent this problem by feature scaling.\n",
    "there are a lot of scaling method. you should choose based on your data.\n",
    " "
   ]
  },
  {
   "cell_type": "raw",
   "id": "b29492ab",
   "metadata": {},
   "source": [
    "---------------------------------------------------implementation---------------------------------------------------"
   ]
  },
  {
   "cell_type": "markdown",
   "id": "28a54a15",
   "metadata": {},
   "source": [
    "<b>StandardScaler</b>"
   ]
  },
  {
   "cell_type": "markdown",
   "id": "b41f53f4",
   "metadata": {},
   "source": [
    "the Standard Scaler scales the values in a way the mean would be 0 and the STD would be  1."
   ]
  },
  {
   "cell_type": "code",
   "execution_count": 1,
   "id": "185db53e",
   "metadata": {},
   "outputs": [],
   "source": [
    "import matplotlib.pyplot as plt\n",
    "import numpy as np\n",
    "import pandas as pd\n",
    "from sklearn.model_selection import train_test_split\n",
    "\n",
    "%matplotlib inline"
   ]
  },
  {
   "cell_type": "code",
   "execution_count": 2,
   "id": "49ef9aee",
   "metadata": {},
   "outputs": [],
   "source": [
    "from sklearn.datasets import fetch_california_housing\n",
    "housing = fetch_california_housing()"
   ]
  },
  {
   "cell_type": "code",
   "execution_count": 3,
   "id": "ed8bb020",
   "metadata": {},
   "outputs": [
    {
     "data": {
      "text/plain": [
       "dict_keys(['data', 'target', 'frame', 'target_names', 'feature_names', 'DESCR'])"
      ]
     },
     "execution_count": 3,
     "metadata": {},
     "output_type": "execute_result"
    }
   ],
   "source": [
    "housing.keys()"
   ]
  },
  {
   "cell_type": "code",
   "execution_count": 4,
   "id": "f44b85fe",
   "metadata": {},
   "outputs": [],
   "source": [
    "X_train, X_test, Y_train, Y_test=train_test_split(housing.data,housing.target,test_size=0.3)"
   ]
  },
  {
   "cell_type": "code",
   "execution_count": 5,
   "id": "7b7a09f7",
   "metadata": {},
   "outputs": [
    {
     "name": "stdout",
     "output_type": "stream",
     "text": [
      "[[   5.2289       41.            5.56910569 ...    2.16260163\n",
      "    37.87       -122.25      ]\n",
      " [   2.7566       25.            4.80335508 ...    2.97856477\n",
      "    38.6        -121.53      ]\n",
      " [   6.1112        2.            7.15327793 ...    3.21421976\n",
      "    38.34       -121.92      ]\n",
      " ...\n",
      " [   2.4615       46.            4.46557377 ...    3.50163934\n",
      "    36.92       -121.75      ]\n",
      " [   2.6071       52.            4.07490637 ...    1.82022472\n",
      "    37.86       -122.27      ]\n",
      " [   1.0096       52.            3.         ...    1.85416667\n",
      "    38.3        -122.29      ]]\n"
     ]
    }
   ],
   "source": [
    "np.set_printoptions(suppress=True)\n",
    "print(X_train)"
   ]
  },
  {
   "cell_type": "code",
   "execution_count": 6,
   "id": "d8730b09",
   "metadata": {},
   "outputs": [
    {
     "name": "stdout",
     "output_type": "stream",
     "text": [
      "the mean is : [   3.8747327    28.62866833    5.4248859     1.09658591 1429.00968992\n",
      "    3.08943718   35.63701066 -119.57817345]\n",
      "STD is : [   1.88961208   12.5890043     2.33713355    0.46263536 1128.63274893\n",
      "   11.67096854    2.12632323    2.00370401]\n"
     ]
    }
   ],
   "source": [
    "print(\"the mean is : {}\".format(X_train.mean(axis=0)))\n",
    "print(\"STD is : {}\".format(X_train.std(axis=0)))"
   ]
  },
  {
   "cell_type": "code",
   "execution_count": 15,
   "id": "472638a0",
   "metadata": {},
   "outputs": [],
   "source": [
    "from sklearn.preprocessing import StandardScaler\n",
    "scaler=StandardScaler()\n",
    "scaler.fit(X_train)\n",
    "X_train_scaled=scaler.transform(X_train)"
   ]
  },
  {
   "cell_type": "code",
   "execution_count": 16,
   "id": "3a4646a3",
   "metadata": {},
   "outputs": [
    {
     "name": "stdout",
     "output_type": "stream",
     "text": [
      "the mean after scaling is : [-0.  0.  0.  0. -0. -0.  0.  0.]\n",
      "STD after scaling is : [1. 1. 1. 1. 1. 1. 1. 1.]\n"
     ]
    }
   ],
   "source": [
    "print(\"the mean after scaling is : {}\".format(X_train_scaled.mean(axis=0)))\n",
    "print(\"STD after scaling is : {}\".format(X_train_scaled.std(axis=0)))"
   ]
  },
  {
   "cell_type": "markdown",
   "id": "da8d754e",
   "metadata": {},
   "source": [
    "<b>MinMax Scaler</b>"
   ]
  },
  {
   "cell_type": "markdown",
   "id": "a24113b4",
   "metadata": {},
   "source": [
    "It simply scale data between zero to 1"
   ]
  },
  {
   "cell_type": "code",
   "execution_count": 18,
   "id": "1f21dfc0",
   "metadata": {},
   "outputs": [],
   "source": [
    "from sklearn.preprocessing import MinMaxScaler\n",
    "m_scaler = MinMaxScaler()\n",
    "m_scaler.fit(X_train)\n",
    "X_train_m_scaled=m_scaler.transform(X_train)"
   ]
  },
  {
   "cell_type": "code",
   "execution_count": 19,
   "id": "f82a5835",
   "metadata": {},
   "outputs": [
    {
     "name": "stdout",
     "output_type": "stream",
     "text": [
      "the mean after scaling is : [0.23274387 0.54173859 0.03476976 0.02262606 0.04992507 0.00192906\n",
      " 0.32911909 0.47528153]\n",
      "STD after scaling is : [0.13031628 0.24684322 0.01774762 0.01371449 0.0395138  0.00939207\n",
      " 0.22596421 0.19957211]\n"
     ]
    }
   ],
   "source": [
    "print(\"the mean after scaling is : {}\".format(X_train_m_scaled.mean(axis=0)))\n",
    "print(\"STD after scaling is : {}\".format(X_train_m_scaled.std(axis=0)))"
   ]
  },
  {
   "cell_type": "code",
   "execution_count": 25,
   "id": "24ae8d4a",
   "metadata": {},
   "outputs": [
    {
     "data": {
      "text/plain": [
       "0.0"
      ]
     },
     "execution_count": 25,
     "metadata": {},
     "output_type": "execute_result"
    }
   ],
   "source": [
    "X_train_m_scaled.min()"
   ]
  },
  {
   "cell_type": "code",
   "execution_count": 26,
   "id": "7f7f50da",
   "metadata": {},
   "outputs": [
    {
     "data": {
      "text/plain": [
       "1.0000000000000002"
      ]
     },
     "execution_count": 26,
     "metadata": {},
     "output_type": "execute_result"
    }
   ],
   "source": [
    "X_train_m_scaled.max()"
   ]
  }
 ],
 "metadata": {
  "kernelspec": {
   "display_name": "Python 3 (ipykernel)",
   "language": "python",
   "name": "python3"
  },
  "language_info": {
   "codemirror_mode": {
    "name": "ipython",
    "version": 3
   },
   "file_extension": ".py",
   "mimetype": "text/x-python",
   "name": "python",
   "nbconvert_exporter": "python",
   "pygments_lexer": "ipython3",
   "version": "3.8.10"
  }
 },
 "nbformat": 4,
 "nbformat_minor": 5
}
