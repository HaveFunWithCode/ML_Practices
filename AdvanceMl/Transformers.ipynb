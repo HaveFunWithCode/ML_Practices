{
 "cells": [
  {
   "cell_type": "markdown",
   "id": "28a54a15",
   "metadata": {},
   "source": [
    "# Scale dataset "
   ]
  },
  {
   "cell_type": "code",
   "execution_count": 1,
   "id": "185db53e",
   "metadata": {},
   "outputs": [],
   "source": [
    "import matplotlib.pyplot as plt\n",
    "import numpy as np\n",
    "import pandas as pd\n",
    "from sklearn.model_selection import train_test_split\n",
    "\n",
    "%matplotlib inline"
   ]
  },
  {
   "cell_type": "code",
   "execution_count": 2,
   "id": "49ef9aee",
   "metadata": {},
   "outputs": [],
   "source": [
    "from sklearn.datasets import fetch_california_housing\n",
    "housing = fetch_california_housing()"
   ]
  },
  {
   "cell_type": "code",
   "execution_count": 3,
   "id": "ed8bb020",
   "metadata": {},
   "outputs": [
    {
     "data": {
      "text/plain": [
       "dict_keys(['data', 'target', 'frame', 'target_names', 'feature_names', 'DESCR'])"
      ]
     },
     "execution_count": 3,
     "metadata": {},
     "output_type": "execute_result"
    }
   ],
   "source": [
    "housing.keys()"
   ]
  },
  {
   "cell_type": "code",
   "execution_count": 4,
   "id": "f44b85fe",
   "metadata": {},
   "outputs": [],
   "source": [
    "X_train, X_test, Y_train, Y_test=train_test_split(housing.data,housing.target,test_size=0.3)"
   ]
  },
  {
   "cell_type": "code",
   "execution_count": 5,
   "id": "7b7a09f7",
   "metadata": {},
   "outputs": [
    {
     "name": "stdout",
     "output_type": "stream",
     "text": [
      "[[   5.375        16.            4.76       ...    1.86\n",
      "    33.76       -117.84      ]\n",
      " [   1.9029       36.            3.72122762 ...    3.90664962\n",
      "    34.05       -117.76      ]\n",
      " [   1.4044       35.            4.65914787 ...    3.02756892\n",
      "    36.97       -120.06      ]\n",
      " ...\n",
      " [   4.7039       24.            4.44736842 ...    2.53684211\n",
      "    33.73       -117.82      ]\n",
      " [   8.338        52.            8.29710145 ...    2.42028986\n",
      "    38.54       -121.5       ]\n",
      " [   2.6266       23.            4.76803119 ...    2.20662768\n",
      "    38.65       -121.33      ]]\n"
     ]
    }
   ],
   "source": [
    "np.set_printoptions(suppress=True)\n",
    "print(X_train)"
   ]
  },
  {
   "cell_type": "code",
   "execution_count": 6,
   "id": "d8730b09",
   "metadata": {},
   "outputs": [
    {
     "name": "stdout",
     "output_type": "stream",
     "text": [
      "the mean is : [   3.87553956   28.58866279    5.45042204    1.10057045 1421.77685493\n",
      "    3.07297551   35.64033223 -119.57500208]\n",
      "STD is : [   1.8952796    12.60545336    2.65211923    0.51834204 1087.91635608\n",
      "   11.32981382    2.14082014    2.00498128]\n"
     ]
    }
   ],
   "source": [
    "print(\"the mean is : {}\".format(X_train.mean(axis=0)))\n",
    "print(\"STD is : {}\".format(X_train.std(axis=0)))"
   ]
  },
  {
   "cell_type": "code",
   "execution_count": 7,
   "id": "472638a0",
   "metadata": {},
   "outputs": [
    {
     "data": {
      "text/plain": [
       "StandardScaler()"
      ]
     },
     "execution_count": 7,
     "metadata": {},
     "output_type": "execute_result"
    }
   ],
   "source": [
    "from sklearn.preprocessing import StandardScaler\n",
    "scaler=StandardScaler()\n",
    "scaler.fit(X_train)"
   ]
  },
  {
   "cell_type": "code",
   "execution_count": 8,
   "id": "929581fa",
   "metadata": {},
   "outputs": [],
   "source": [
    "X_train_scaled=scaler.transform(X_train)"
   ]
  },
  {
   "cell_type": "code",
   "execution_count": 9,
   "id": "3a4646a3",
   "metadata": {},
   "outputs": [
    {
     "name": "stdout",
     "output_type": "stream",
     "text": [
      "the mean after scaling is : [-0. -0. -0. -0.  0. -0.  0. -0.]\n",
      "STD after scaling is : [1. 1. 1. 1. 1. 1. 1. 1.]\n"
     ]
    }
   ],
   "source": [
    "print(\"the mean after scaling is : {}\".format(X_train_scaled.mean(axis=0)))\n",
    "print(\"STD after scaling is : {}\".format(X_train_scaled.std(axis=0)))"
   ]
  }
 ],
 "metadata": {
  "kernelspec": {
   "display_name": "Python 3 (ipykernel)",
   "language": "python",
   "name": "python3"
  },
  "language_info": {
   "codemirror_mode": {
    "name": "ipython",
    "version": 3
   },
   "file_extension": ".py",
   "mimetype": "text/x-python",
   "name": "python",
   "nbconvert_exporter": "python",
   "pygments_lexer": "ipython3",
   "version": "3.8.10"
  }
 },
 "nbformat": 4,
 "nbformat_minor": 5
}
