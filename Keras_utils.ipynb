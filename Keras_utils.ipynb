{
 "cells": [
  {
   "cell_type": "markdown",
   "id": "1fe7c57b",
   "metadata": {},
   "source": [
    "# keras.utils.to_categorical"
   ]
  },
  {
   "cell_type": "markdown",
   "id": "ebb8c5ac",
   "metadata": {},
   "source": [
    "-----------keras utils is a numpy utility library which contains functions include numpy array actions----------\n",
    "\"to_categorical converts a numpy array or a vector of intergers that represent different categories to a matrix .this matrix has as  column number as categories\""
   ]
  },
  {
   "cell_type": "markdown",
   "id": "ccb84f81",
   "metadata": {},
   "source": [
    "#example"
   ]
  },
  {
   "cell_type": "code",
   "execution_count": 6,
   "id": "75363e79",
   "metadata": {},
   "outputs": [
    {
     "data": {
      "text/plain": [
       "array([[1., 0.],\n",
       "       [0., 1.],\n",
       "       [1., 0.],\n",
       "       [0., 1.],\n",
       "       [0., 1.],\n",
       "       [0., 1.],\n",
       "       [1., 0.]], dtype=float32)"
      ]
     },
     "execution_count": 6,
     "metadata": {},
     "output_type": "execute_result"
    }
   ],
   "source": [
    "\n",
    "from tensorflow.keras.utils import to_categorical\n",
    "labels=[0,1,0,1,1,1,0]\n",
    "label_matrix=to_categorical(labels)\n",
    "label_matrix"
   ]
  }
 ],
 "metadata": {
  "kernelspec": {
   "display_name": "Python 3 (ipykernel)",
   "language": "python",
   "name": "python3"
  },
  "language_info": {
   "codemirror_mode": {
    "name": "ipython",
    "version": 3
   },
   "file_extension": ".py",
   "mimetype": "text/x-python",
   "name": "python",
   "nbconvert_exporter": "python",
   "pygments_lexer": "ipython3",
   "version": "3.8.10"
  }
 },
 "nbformat": 4,
 "nbformat_minor": 5
}
