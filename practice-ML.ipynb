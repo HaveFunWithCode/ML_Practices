{
 "cells": [
  {
   "cell_type": "code",
   "execution_count": 1,
   "id": "3d7de751",
   "metadata": {},
   "outputs": [],
   "source": [
    "import  numpy as np\n"
   ]
  },
  {
   "cell_type": "markdown",
   "id": "f9ae9f11",
   "metadata": {},
   "source": [
    "# expand_dims\n",
    "add a new dimention to ndarray"
   ]
  },
  {
   "cell_type": "code",
   "execution_count": 30,
   "id": "792d5591",
   "metadata": {},
   "outputs": [
    {
     "data": {
      "text/plain": [
       "array([[0, 1, 2, 3],\n",
       "       [4, 5, 6, 7]])"
      ]
     },
     "execution_count": 30,
     "metadata": {},
     "output_type": "execute_result"
    }
   ],
   "source": [
    "a= np.arange(8).reshape(2,4)\n",
    "a"
   ]
  },
  {
   "cell_type": "markdown",
   "id": "bbd46623",
   "metadata": {},
   "source": [
    "----- possitive value as axis--------"
   ]
  },
  {
   "cell_type": "code",
   "execution_count": 31,
   "id": "30dcdab7",
   "metadata": {},
   "outputs": [
    {
     "data": {
      "text/plain": [
       "(1, 2, 4)"
      ]
     },
     "execution_count": 31,
     "metadata": {},
     "output_type": "execute_result"
    }
   ],
   "source": [
    "a0=np.expand_dims(a,axis=0) # 0 is position to add the dimention\n",
    "a0.shape\n"
   ]
  },
  {
   "cell_type": "code",
   "execution_count": 33,
   "id": "e1666d51",
   "metadata": {},
   "outputs": [
    {
     "data": {
      "text/plain": [
       "array([[[0, 1, 2, 3],\n",
       "        [4, 5, 6, 7]]])"
      ]
     },
     "execution_count": 33,
     "metadata": {},
     "output_type": "execute_result"
    }
   ],
   "source": [
    "a0"
   ]
  },
  {
   "cell_type": "code",
   "execution_count": 36,
   "id": "34c8749e",
   "metadata": {},
   "outputs": [
    {
     "data": {
      "text/plain": [
       "array([[[0, 1, 2, 3]],\n",
       "\n",
       "       [[4, 5, 6, 7]]])"
      ]
     },
     "execution_count": 36,
     "metadata": {},
     "output_type": "execute_result"
    }
   ],
   "source": [
    "a1=np.expand_dims(a,axis=1)\n",
    "a1.shape\n",
    "a1"
   ]
  },
  {
   "cell_type": "code",
   "execution_count": 37,
   "id": "6af1e6bb",
   "metadata": {},
   "outputs": [
    {
     "data": {
      "text/plain": [
       "array([[[0],\n",
       "        [1],\n",
       "        [2],\n",
       "        [3]],\n",
       "\n",
       "       [[4],\n",
       "        [5],\n",
       "        [6],\n",
       "        [7]]])"
      ]
     },
     "execution_count": 37,
     "metadata": {},
     "output_type": "execute_result"
    }
   ],
   "source": [
    "a2=np.expand_dims(a,axis=2)\n",
    "a2"
   ]
  },
  {
   "cell_type": "markdown",
   "id": "34296c8b",
   "metadata": {},
   "source": [
    "----- negative value as axis--------"
   ]
  },
  {
   "cell_type": "markdown",
   "id": "e90202d3",
   "metadata": {},
   "source": [
    "negative value corresponds to the last dimention and you can specify the position from behind"
   ]
  },
  {
   "cell_type": "code",
   "execution_count": 41,
   "id": "cddb4133",
   "metadata": {},
   "outputs": [
    {
     "data": {
      "text/plain": [
       "array([[[0],\n",
       "        [1],\n",
       "        [2],\n",
       "        [3]],\n",
       "\n",
       "       [[4],\n",
       "        [5],\n",
       "        [6],\n",
       "        [7]]])"
      ]
     },
     "execution_count": 41,
     "metadata": {},
     "output_type": "execute_result"
    }
   ],
   "source": [
    "a_1=np.expand_dims(a,axis=-1)\n",
    "a_1 # here this is same as axis=2 becuse 2 from behind is -1"
   ]
  }
 ],
 "metadata": {
  "kernelspec": {
   "display_name": "Python 3 (ipykernel)",
   "language": "python",
   "name": "python3"
  },
  "language_info": {
   "codemirror_mode": {
    "name": "ipython",
    "version": 3
   },
   "file_extension": ".py",
   "mimetype": "text/x-python",
   "name": "python",
   "nbconvert_exporter": "python",
   "pygments_lexer": "ipython3",
   "version": "3.8.10"
  }
 },
 "nbformat": 4,
 "nbformat_minor": 5
}
