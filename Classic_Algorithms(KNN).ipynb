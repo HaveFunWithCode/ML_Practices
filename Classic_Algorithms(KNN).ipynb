{
 "cells": [
  {
   "cell_type": "markdown",
   "id": "fc3d8755",
   "metadata": {},
   "source": [
    "# k-Nearest Neighbors algorithm(KNN)"
   ]
  },
  {
   "cell_type": "markdown",
   "id": "ede03d40",
   "metadata": {},
   "source": [
    "----------------------------------------------Concept---------------------------------------------------------------"
   ]
  },
  {
   "cell_type": "markdown",
   "id": "29f9c9f6",
   "metadata": {},
   "source": [
    "this algorithm has two step:\n",
    "\n",
    "1)calculate the distance of a new data point to all other training data points.\n",
    "The distance could be :\n",
    "*Euclidean\n",
    "*Manhattan\n",
    "....\n",
    "\n",
    "2)selects the K(arbitary) nearest data points.\n",
    "\n",
    "3)\n",
    "it assigns the data point to the class to which the majority of the K data points belong."
   ]
  },
  {
   "cell_type": "markdown",
   "id": "8cb657f7",
   "metadata": {},
   "source": [
    "Pros:\n",
    "    1) It is extremely easy to implement\n",
    "    2) It is lazy learning algorithm and therefore.requires no training prior to making real time predictions. \n",
    "    3) Since the algorithm requires no training before making predictions, new data can be added seamlessly.\n",
    "    4) There are only two parameters required to implement KNN(K and the distance function)"
   ]
  },
  {
   "cell_type": "markdown",
   "id": "dec0dec5",
   "metadata": {},
   "source": [
    "Cons\n",
    "    1)It does not work well with high dimensional data because of ditance calculation time.\n",
    "    2)It does  not work well with categorical features because finding the distance between dimensions with categorical features is difficult."
   ]
  },
  {
   "cell_type": "markdown",
   "id": "1e14b5bd",
   "metadata": {},
   "source": [
    "----------------------------------------------Implementation-------------------------------------------------------"
   ]
  },
  {
   "cell_type": "code",
   "execution_count": 1,
   "id": "d0387532",
   "metadata": {},
   "outputs": [],
   "source": [
    "\n",
    "import numpy as np\n",
    "import matplotlib.pyplot as plt\n",
    "import pandas as pd\n",
    "from sklearn.model_selection import train_test_split\n",
    "from sklearn.preprocessing import StandardScaler\n",
    "from sklearn.metrics import classification_report, confusion_matrix\n",
    "\n",
    "from sklearn.neighbors import KNeighborsClassifier\n",
    "%matplotlib inline\n",
    "\n",
    "iris_url = \"https://archive.ics.uci.edu/ml/machine-learning-databases/iris/iris.data\"\n",
    "\n",
    "dt=pd.read_csv(iris_url)\n",
    "dt= dt.set_axis(['Sepal_Lenght',\n",
    "                   'Sepal_Width',\n",
    "                   'Petal-Length',\n",
    "                   'Petal-Width',\n",
    "                   'Target'], axis=1, inplace=False)"
   ]
  },
  {
   "cell_type": "code",
   "execution_count": 2,
   "id": "cf8be5d7",
   "metadata": {},
   "outputs": [
    {
     "data": {
      "text/html": [
       "<div>\n",
       "<style scoped>\n",
       "    .dataframe tbody tr th:only-of-type {\n",
       "        vertical-align: middle;\n",
       "    }\n",
       "\n",
       "    .dataframe tbody tr th {\n",
       "        vertical-align: top;\n",
       "    }\n",
       "\n",
       "    .dataframe thead th {\n",
       "        text-align: right;\n",
       "    }\n",
       "</style>\n",
       "<table border=\"1\" class=\"dataframe\">\n",
       "  <thead>\n",
       "    <tr style=\"text-align: right;\">\n",
       "      <th></th>\n",
       "      <th>Sepal_Lenght</th>\n",
       "      <th>Sepal_Width</th>\n",
       "      <th>Petal-Length</th>\n",
       "      <th>Petal-Width</th>\n",
       "      <th>Target</th>\n",
       "    </tr>\n",
       "  </thead>\n",
       "  <tbody>\n",
       "    <tr>\n",
       "      <th>0</th>\n",
       "      <td>4.9</td>\n",
       "      <td>3.0</td>\n",
       "      <td>1.4</td>\n",
       "      <td>0.2</td>\n",
       "      <td>Iris-setosa</td>\n",
       "    </tr>\n",
       "    <tr>\n",
       "      <th>1</th>\n",
       "      <td>4.7</td>\n",
       "      <td>3.2</td>\n",
       "      <td>1.3</td>\n",
       "      <td>0.2</td>\n",
       "      <td>Iris-setosa</td>\n",
       "    </tr>\n",
       "    <tr>\n",
       "      <th>2</th>\n",
       "      <td>4.6</td>\n",
       "      <td>3.1</td>\n",
       "      <td>1.5</td>\n",
       "      <td>0.2</td>\n",
       "      <td>Iris-setosa</td>\n",
       "    </tr>\n",
       "    <tr>\n",
       "      <th>3</th>\n",
       "      <td>5.0</td>\n",
       "      <td>3.6</td>\n",
       "      <td>1.4</td>\n",
       "      <td>0.2</td>\n",
       "      <td>Iris-setosa</td>\n",
       "    </tr>\n",
       "    <tr>\n",
       "      <th>4</th>\n",
       "      <td>5.4</td>\n",
       "      <td>3.9</td>\n",
       "      <td>1.7</td>\n",
       "      <td>0.4</td>\n",
       "      <td>Iris-setosa</td>\n",
       "    </tr>\n",
       "  </tbody>\n",
       "</table>\n",
       "</div>"
      ],
      "text/plain": [
       "   Sepal_Lenght  Sepal_Width  Petal-Length  Petal-Width       Target\n",
       "0           4.9          3.0           1.4          0.2  Iris-setosa\n",
       "1           4.7          3.2           1.3          0.2  Iris-setosa\n",
       "2           4.6          3.1           1.5          0.2  Iris-setosa\n",
       "3           5.0          3.6           1.4          0.2  Iris-setosa\n",
       "4           5.4          3.9           1.7          0.4  Iris-setosa"
      ]
     },
     "execution_count": 2,
     "metadata": {},
     "output_type": "execute_result"
    }
   ],
   "source": [
    "dt.head()"
   ]
  },
  {
   "cell_type": "code",
   "execution_count": 3,
   "id": "0510f048",
   "metadata": {},
   "outputs": [],
   "source": [
    "X=dt.iloc[:,:-1]\n",
    "Y=dt.iloc[:,4]\n",
    "# split data\n",
    "X_train, X_test, Y_train, Y_test=train_test_split(X,Y,test_size=0.3)"
   ]
  },
  {
   "cell_type": "code",
   "execution_count": 4,
   "id": "54504a05",
   "metadata": {},
   "outputs": [],
   "source": [
    "# scale to normalize data\n",
    "st_scaler=StandardScaler()\n",
    "st_scaler.fit(X_train)\n",
    "\n",
    "X_train=st_scaler.transform(X_train)\n",
    "X_test=st_scaler.transform(X_test)"
   ]
  },
  {
   "cell_type": "code",
   "execution_count": 5,
   "id": "b5aa5e34",
   "metadata": {},
   "outputs": [
    {
     "data": {
      "text/plain": [
       "KNeighborsClassifier()"
      ]
     },
     "execution_count": 5,
     "metadata": {},
     "output_type": "execute_result"
    }
   ],
   "source": [
    "# train\n",
    "clf_knn=KNeighborsClassifier(n_neighbors=5)\n",
    "clf_knn.fit(X_train, Y_train)"
   ]
  },
  {
   "cell_type": "code",
   "execution_count": 6,
   "id": "3725b88e",
   "metadata": {},
   "outputs": [],
   "source": [
    "# predict\n",
    "Y_pred = clf_knn.predict(X_test)\n"
   ]
  },
  {
   "cell_type": "code",
   "execution_count": 7,
   "id": "04ab60c3",
   "metadata": {},
   "outputs": [
    {
     "name": "stdout",
     "output_type": "stream",
     "text": [
      "[[11  0  0]\n",
      " [ 0 19  2]\n",
      " [ 0  0 13]]\n",
      "                 precision    recall  f1-score   support\n",
      "\n",
      "    Iris-setosa       1.00      1.00      1.00        11\n",
      "Iris-versicolor       1.00      0.90      0.95        21\n",
      " Iris-virginica       0.87      1.00      0.93        13\n",
      "\n",
      "       accuracy                           0.96        45\n",
      "      macro avg       0.96      0.97      0.96        45\n",
      "   weighted avg       0.96      0.96      0.96        45\n",
      "\n"
     ]
    }
   ],
   "source": [
    "# Evaluate\n",
    "print(confusion_matrix(Y_test, Y_pred))\n",
    "print(classification_report(Y_test, Y_pred))"
   ]
  },
  {
   "cell_type": "code",
   "execution_count": 14,
   "id": "3acb9b41",
   "metadata": {},
   "outputs": [
    {
     "data": {
      "text/plain": [
       "Text(0, 0.5, 'False predictions ')"
      ]
     },
     "execution_count": 14,
     "metadata": {},
     "output_type": "execute_result"
    },
    {
     "data": {
      "image/png": "[encoded data removed]",
      "text/plain": [
       "<Figure size 1440x720 with 1 Axes>"
      ]
     },
     "metadata": {
      "needs_background": "light"
     },
     "output_type": "display_data"
    }
   ],
   "source": [
    "# find best k\n",
    "false_predictions=[]\n",
    "k_range=range(1, 50)\n",
    "for i in k_range:\n",
    "    clf=KNeighborsClassifier(n_neighbors=i)\n",
    "    clf.fit(X_train,Y_train)\n",
    "    pred=clf.predict(X_test)\n",
    "    false_predictions.append(sum(pred!=Y_test))\n",
    "\n",
    "plt.figure(figsize=(20,10))\n",
    "plt.plot(k_range, false_predictions, color='green', marker='*',markerfacecolor='red')\n",
    "plt.title('False predictions with respect to K')\n",
    "plt.xlabel('K')\n",
    "plt.xticks(k_range,k_range)   \n",
    "plt.ylabel('False predictions ')\n"
   ]
  },
  {
   "cell_type": "code",
   "execution_count": null,
   "id": "8e896de7",
   "metadata": {},
   "outputs": [],
   "source": [
    "lowest false predition number is when k is between 21 nd 24"
   ]
  }
 ],
 "metadata": {
  "kernelspec": {
   "display_name": "Python 3 (ipykernel)",
   "language": "python",
   "name": "python3"
  },
  "language_info": {
   "codemirror_mode": {
    "name": "ipython",
    "version": 3
   },
   "file_extension": ".py",
   "mimetype": "text/x-python",
   "name": "python",
   "nbconvert_exporter": "python",
   "pygments_lexer": "ipython3",
   "version": "3.8.10"
  }
 },
 "nbformat": 4,
 "nbformat_minor": 5
}
